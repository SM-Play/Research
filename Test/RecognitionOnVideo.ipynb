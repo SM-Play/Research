{
 "cells": [
  {
   "cell_type": "code",
   "execution_count": 1,
   "metadata": {},
   "outputs": [],
   "source": [
    "from matplotlib import pyplot as plt\n",
    "from imutils import face_utils\n",
    "import dlib\n",
    "import cv2"
   ]
  },
  {
   "cell_type": "code",
   "execution_count": 2,
   "metadata": {},
   "outputs": [],
   "source": [
    "# Load dlib\n",
    "p = \"shape_predictor_68_face_landmarks.dat\"\n",
    "detector = dlib.get_frontal_face_detector()\n",
    "predictor = dlib.shape_predictor(p)"
   ]
  },
  {
   "cell_type": "code",
   "execution_count": 3,
   "metadata": {},
   "outputs": [
    {
     "data": {
      "text/plain": [
       "True"
      ]
     },
     "execution_count": 3,
     "metadata": {},
     "output_type": "execute_result"
    }
   ],
   "source": [
    "cap = cv2.VideoCapture(0)\n",
    "if not cap.isOpened():\n",
    "    raise(\"Cam Open Failed.\")\n",
    "\n",
    "# Set Resolution\n",
    "WIDTH, HEIGHT = 0, 1\n",
    "windowSize = (640, 480)\n",
    "fixedSize = (320, 240)\n",
    "sizeRate = (windowSize[WIDTH] // fixedSize[WIDTH], windowSize[HEIGHT] // fixedSize[HEIGHT])\n",
    "cap.set(cv2.CAP_PROP_FRAME_WIDTH, windowSize[WIDTH])\n",
    "cap.set(cv2.CAP_PROP_FRAME_HEIGHT, windowSize[HEIGHT])"
   ]
  },
  {
   "cell_type": "code",
   "execution_count": 7,
   "metadata": {},
   "outputs": [],
   "source": [
    "while True:\n",
    "    _, frame = cap.read()\n",
    "    resizedFrame = cv2.resize(frame, dsize=fixedSize, interpolation=cv2.INTER_AREA)\n",
    "    grayFrame = cv2.cvtColor(resizedFrame, cv2.COLOR_BGR2GRAY)\n",
    "    rects = detector(grayFrame, 0)\n",
    "    \n",
    "    for rect in rects:\n",
    "        # Make the prediction and transform it to numpy array\n",
    "        shape = predictor(grayFrame, rect)\n",
    "        shape = face_utils.shape_to_np(shape)\n",
    "    \n",
    "        # Draw on our image, all the finded coordinate points (x, y)\n",
    "        for (x, y) in shape:\n",
    "            rx, ry = x * sizeRate[WIDTH], y * sizeRate[HEIGHT]\n",
    "            cv2.circle(frame, (rx, ry), 2, (0, 255, 0), -1)\n",
    "    \n",
    "    # Show Frame as Window\n",
    "    flipedFrame = cv2.flip(frame, 1)\n",
    "    cv2.imshow('FaceRecognition', flipedFrame)\n",
    "    key = cv2.waitKey(1) & 0xFF\n",
    "    if key == 27:\n",
    "        break\n",
    "\n",
    "cv2.destroyAllWindows()"
   ]
  }
 ],
 "metadata": {
  "kernelspec": {
   "display_name": "Python 3",
   "language": "python",
   "name": "python3"
  },
  "language_info": {
   "codemirror_mode": {
    "name": "ipython",
    "version": 3
   },
   "file_extension": ".py",
   "mimetype": "text/x-python",
   "name": "python",
   "nbconvert_exporter": "python",
   "pygments_lexer": "ipython3",
   "version": "3.7.2"
  }
 },
 "nbformat": 4,
 "nbformat_minor": 2
}
